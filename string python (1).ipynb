{
 "cells": [
  {
   "cell_type": "raw",
   "metadata": {},
   "source": []
  },
  {
   "cell_type": "code",
   "execution_count": 30,
   "metadata": {},
   "outputs": [],
   "source": [
    "mystr=\"i love pakistan\""
   ]
  },
  {
   "cell_type": "code",
   "execution_count": 31,
   "metadata": {},
   "outputs": [
    {
     "data": {
      "text/plain": [
       "'i love pakistan'"
      ]
     },
     "execution_count": 31,
     "metadata": {},
     "output_type": "execute_result"
    }
   ],
   "source": [
    "mystr"
   ]
  },
  {
   "cell_type": "code",
   "execution_count": 32,
   "metadata": {},
   "outputs": [],
   "source": [
    "multiple='''It looks like the webpage at https://ntp.msn.com/edge/ntp?locale=en-\n",
    "US&title=New%20tab&dsp=1&sp=Bing might be having issues, or it may have move\n",
    "permanently to a new web address.\n",
    "ERR_FAILED'''"
   ]
  },
  {
   "cell_type": "code",
   "execution_count": 33,
   "metadata": {},
   "outputs": [
    {
     "data": {
      "text/plain": [
       "'It looks like the webpage at https://ntp.msn.com/edge/ntp?locale=en-\\nUS&title=New%20tab&dsp=1&sp=Bing might be having issues, or it may have move\\npermanently to a new web address.\\nERR_FAILED'"
      ]
     },
     "execution_count": 33,
     "metadata": {},
     "output_type": "execute_result"
    }
   ],
   "source": [
    "multiple"
   ]
  },
  {
   "cell_type": "code",
   "execution_count": 34,
   "metadata": {},
   "outputs": [
    {
     "data": {
      "text/plain": [
       "'o'"
      ]
     },
     "execution_count": 34,
     "metadata": {},
     "output_type": "execute_result"
    }
   ],
   "source": [
    "multiple[4]"
   ]
  },
  {
   "cell_type": "code",
   "execution_count": 35,
   "metadata": {},
   "outputs": [
    {
     "data": {
      "text/plain": [
       "<function str.capitalize()>"
      ]
     },
     "execution_count": 35,
     "metadata": {},
     "output_type": "execute_result"
    }
   ],
   "source": [
    "multiple.capitalize"
   ]
  },
  {
   "cell_type": "code",
   "execution_count": 36,
   "metadata": {},
   "outputs": [
    {
     "data": {
      "text/plain": [
       "'I ok '"
      ]
     },
     "execution_count": 36,
     "metadata": {},
     "output_type": "execute_result"
    }
   ],
   "source": [
    "multiple[0:9:2]"
   ]
  },
  {
   "cell_type": "code",
   "execution_count": 37,
   "metadata": {},
   "outputs": [
    {
     "data": {
      "text/plain": [
       "'IT LOOKS LIKE THE WEBPAGE AT HTTPS://NTP.MSN.COM/EDGE/NTP?LOCALE=EN-\\nUS&TITLE=NEW%20TAB&DSP=1&SP=BING MIGHT BE HAVING ISSUES, OR IT MAY HAVE MOVE\\nPERMANENTLY TO A NEW WEB ADDRESS.\\nERR_FAILED'"
      ]
     },
     "execution_count": 37,
     "metadata": {},
     "output_type": "execute_result"
    }
   ],
   "source": [
    "multiple.upper()"
   ]
  },
  {
   "cell_type": "code",
   "execution_count": 38,
   "metadata": {},
   "outputs": [
    {
     "data": {
      "text/plain": [
       "'it looks like the webpage at https://ntp.msn.com/edge/ntp?locale=en-\\nus&title=new%20tab&dsp=1&sp=bing might be having issues, or it may have move\\npermanently to a new web address.\\nerr_failed'"
      ]
     },
     "execution_count": 38,
     "metadata": {},
     "output_type": "execute_result"
    }
   ],
   "source": [
    "multiple.lower()"
   ]
  },
  {
   "cell_type": "code",
   "execution_count": 39,
   "metadata": {},
   "outputs": [
    {
     "data": {
      "text/plain": [
       "190"
      ]
     },
     "execution_count": 39,
     "metadata": {},
     "output_type": "execute_result"
    }
   ],
   "source": [
    "len(multiple)"
   ]
  },
  {
   "cell_type": "code",
   "execution_count": 40,
   "metadata": {},
   "outputs": [
    {
     "data": {
      "text/plain": [
       "True"
      ]
     },
     "execution_count": 40,
     "metadata": {},
     "output_type": "execute_result"
    }
   ],
   "source": [
    "\"looks\" in multiple"
   ]
  },
  {
   "cell_type": "code",
   "execution_count": 43,
   "metadata": {},
   "outputs": [
    {
     "data": {
      "text/plain": [
       "'i love pakistanIt looks like the webpage at https://ntp.msn.com/edge/ntp?locale=en-\\nUS&title=New%20tab&dsp=1&sp=Bing might be having issues, or it may have move\\npermanently to a new web address.\\nERR_FAILED'"
      ]
     },
     "execution_count": 43,
     "metadata": {},
     "output_type": "execute_result"
    }
   ],
   "source": [
    "mystr+multiple"
   ]
  },
  {
   "cell_type": "code",
   "execution_count": 42,
   "metadata": {},
   "outputs": [
    {
     "data": {
      "text/plain": [
       "['It',\n",
       " 'looks',\n",
       " 'like',\n",
       " 'the',\n",
       " 'webpage',\n",
       " 'at',\n",
       " 'https://ntp.msn.com/edge/ntp?locale=en-',\n",
       " 'US&title=New%20tab&dsp=1&sp=Bing',\n",
       " 'might',\n",
       " 'be',\n",
       " 'having',\n",
       " 'issues,',\n",
       " 'or',\n",
       " 'it',\n",
       " 'may',\n",
       " 'have',\n",
       " 'move',\n",
       " 'permanently',\n",
       " 'to',\n",
       " 'a',\n",
       " 'new',\n",
       " 'web',\n",
       " 'address.',\n",
       " 'ERR_FAILED']"
      ]
     },
     "execution_count": 42,
     "metadata": {},
     "output_type": "execute_result"
    }
   ],
   "source": [
    "multiple.split()"
   ]
  },
  {
   "cell_type": "code",
   "execution_count": null,
   "metadata": {},
   "outputs": [],
   "source": []
  }
 ],
 "metadata": {
  "kernelspec": {
   "display_name": "Python 3",
   "language": "python",
   "name": "python3"
  },
  "language_info": {
   "codemirror_mode": {
    "name": "ipython",
    "version": 3
   },
   "file_extension": ".py",
   "mimetype": "text/x-python",
   "name": "python",
   "nbconvert_exporter": "python",
   "pygments_lexer": "ipython3",
   "version": "3.7.6"
  }
 },
 "nbformat": 4,
 "nbformat_minor": 4
}
