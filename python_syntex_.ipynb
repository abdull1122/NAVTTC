{
  "nbformat": 4,
  "nbformat_minor": 0,
  "metadata": {
    "kernelspec": {
      "display_name": "Python 3",
      "language": "python",
      "name": "python3"
    },
    "language_info": {
      "codemirror_mode": {
        "name": "ipython",
        "version": 3
      },
      "file_extension": ".py",
      "mimetype": "text/x-python",
      "name": "python",
      "nbconvert_exporter": "python",
      "pygments_lexer": "ipython3",
      "version": "3.7.6"
    },
    "colab": {
      "name": "python syntex .ipynb",
      "provenance": []
    }
  },
  "cells": [
    {
      "cell_type": "code",
      "metadata": {
        "id": "8ZTFzelgBRKl",
        "outputId": "c7d298cf-2732-42ee-c57e-ec5644d8c97a"
      },
      "source": [
        "-5 < -4"
      ],
      "execution_count": null,
      "outputs": [
        {
          "output_type": "execute_result",
          "data": {
            "text/plain": [
              "True"
            ]
          },
          "metadata": {
            "tags": []
          },
          "execution_count": 1
        }
      ]
    },
    {
      "cell_type": "code",
      "metadata": {
        "id": "xerbKlKzBRKu",
        "outputId": "89885875-bdfa-469f-986a-795be5cea733"
      },
      "source": [
        "-7 >= -6"
      ],
      "execution_count": null,
      "outputs": [
        {
          "output_type": "execute_result",
          "data": {
            "text/plain": [
              "False"
            ]
          },
          "metadata": {
            "tags": []
          },
          "execution_count": 5
        }
      ]
    },
    {
      "cell_type": "code",
      "metadata": {
        "id": "l_5HiTxJBRKv",
        "outputId": "24440da3-0051-421c-fb4e-806b5a2a4674"
      },
      "source": [
        "\"HELLO\"!= \"hello\""
      ],
      "execution_count": null,
      "outputs": [
        {
          "output_type": "execute_result",
          "data": {
            "text/plain": [
              "True"
            ]
          },
          "metadata": {
            "tags": []
          },
          "execution_count": 7
        }
      ]
    },
    {
      "cell_type": "code",
      "metadata": {
        "id": "d6G36ksjBRKw"
      },
      "source": [
        "# BOOLEAN OPERATORS"
      ],
      "execution_count": null,
      "outputs": []
    },
    {
      "cell_type": "markdown",
      "metadata": {
        "id": "QOFeWTNQBRKx"
      },
      "source": [
        "# BOOLEAN OPERATORS"
      ]
    },
    {
      "cell_type": "code",
      "metadata": {
        "id": "K6YHrru7BRKx",
        "outputId": "93b9e699-937f-4f64-96ff-73395db2cf02"
      },
      "source": [
        "(5>6) or (1!=1)"
      ],
      "execution_count": null,
      "outputs": [
        {
          "output_type": "execute_result",
          "data": {
            "text/plain": [
              "False"
            ]
          },
          "metadata": {
            "tags": []
          },
          "execution_count": 13
        }
      ]
    },
    {
      "cell_type": "code",
      "metadata": {
        "id": "doLxXUk0BRKy",
        "outputId": "902fe2e8-522b-4929-a13e-0a385d0d9464"
      },
      "source": [
        "(5<6) and (6>2)"
      ],
      "execution_count": null,
      "outputs": [
        {
          "output_type": "execute_result",
          "data": {
            "text/plain": [
              "True"
            ]
          },
          "metadata": {
            "tags": []
          },
          "execution_count": 14
        }
      ]
    },
    {
      "cell_type": "code",
      "metadata": {
        "id": "Yy-PjygQBRKz",
        "outputId": "712ff4d4-e08f-42a9-8006-8bbde6c1facb"
      },
      "source": [
        "(5<6)and (6>2) or (5>8)"
      ],
      "execution_count": null,
      "outputs": [
        {
          "output_type": "execute_result",
          "data": {
            "text/plain": [
              "True"
            ]
          },
          "metadata": {
            "tags": []
          },
          "execution_count": 20
        }
      ]
    },
    {
      "cell_type": "code",
      "metadata": {
        "colab": {
          "base_uri": "https://localhost:8080/"
        },
        "id": "EGhyxjixBRK0",
        "outputId": "dc05b018-d2e8-4949-d43e-24e47d0dfd89"
      },
      "source": [
        "NAme =  input(\"Enter your Name\")\n",
        "print(\"HELLO, Name\")"
      ],
      "execution_count": 2,
      "outputs": [
        {
          "output_type": "stream",
          "text": [
            "Enter your Name   Abdullah\n",
            "HELLO, Name\n"
          ],
          "name": "stdout"
        }
      ]
    },
    {
      "cell_type": "code",
      "metadata": {
        "id": "zNFLbDDDDBls"
      },
      "source": [
        "name =input(\"Enter your name\" )"
      ],
      "execution_count": null,
      "outputs": []
    },
    {
      "cell_type": "code",
      "metadata": {
        "id": "QsooOqhaEQEb"
      },
      "source": [
        "print(\"HELLO ! Abdullah khan welcome to colab\")"
      ],
      "execution_count": null,
      "outputs": []
    },
    {
      "cell_type": "code",
      "metadata": {
        "colab": {
          "base_uri": "https://localhost:8080/"
        },
        "id": "bgelwKULFCkN",
        "outputId": "03c98afd-5e90-420d-9498-3c84817a1f98"
      },
      "source": [
        "Number1= float(input(\"Entern first number\"))\n",
        "Number2= float(input(\"\\Enter second number\"))\n",
        "Addition= Number1+number2\n",
        "Subtraction= Number1-Number2\n",
        "mul= Number1*N\n",
        "print(\"Addition is..\",Addition)\n",
        "print(\"subtraction is..\",Subtraction)\n",
        "print(\"\")"
      ],
      "execution_count": 5,
      "outputs": [
        {
          "output_type": "stream",
          "text": [
            "Entern first number30\n",
            "\\Enter second number10\n",
            "Addition is.. 40.0\n",
            "subtraction is.. 20.0\n"
          ],
          "name": "stdout"
        }
      ]
    },
    {
      "cell_type": "code",
      "metadata": {
        "id": "2qBZ5qRGEwLm"
      },
      "source": [
        ""
      ],
      "execution_count": 5,
      "outputs": []
    }
  ]
}